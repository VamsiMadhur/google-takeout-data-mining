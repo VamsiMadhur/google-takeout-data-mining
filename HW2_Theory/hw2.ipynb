{
 "cells": [
  {
   "cell_type": "markdown",
   "metadata": {},
   "source": [
    "# Instructions\n",
    "\n",
    "1. Add your name and HW Group Number below.\n",
    "2. Complete each question. Make sure you fill in any place that says `YOUR CODE HERE` or \"YOUR ANSWER HERE\".\n",
    "3. Where applicable, run the test cases *below* each question to check your work. **Note**: In addition to the test cases you can see, the instructor may run additional test cases, including using *other datasets* to validate you code.\n",
    "4. Before you turn this problem in, make sure everything runs as expected. First, **restart the kernel** (in the menubar, select Kernel$\\rightarrow$Restart) and then **run all cells** (in the menubar, select Cell$\\rightarrow$Run All). You can also use the **Validate** button to run all test cases.\n",
    "5. Turn in your homework by going to the main screen in JupyterHub, clicking the Assignments menu, and submitting. **Also** make sure to turn in your homework on Moodle (so we have a backup copy).\n",
    "\n"
   ]
  },
  {
   "cell_type": "code",
   "execution_count": 2,
   "metadata": {},
   "outputs": [
    {
     "data": {
      "text/plain": [
       "'\\nName: Rahul Yedida\\nHW Group Number: 1\\n'"
      ]
     },
     "execution_count": 2,
     "metadata": {},
     "output_type": "execute_result"
    }
   ],
   "source": [
    "\"\"\"\n",
    "Name: Rahul Yedida\n",
    "HW Group Number: 1\n",
    "\"\"\""
   ]
  },
  {
   "cell_type": "markdown",
   "metadata": {
    "deletable": false,
    "editable": false,
    "nbgrader": {
     "cell_type": "markdown",
     "checksum": "cd78efd40dfbf865fe47aa923d891b1c",
     "grade": false,
     "grade_id": "cell-79604674b02e9546",
     "locked": true,
     "schema_version": 3,
     "solution": false,
     "task": false
    }
   },
   "source": [
    "# Homework 2\n",
    "\n",
    "## Classification and Cross Validation\n"
   ]
  },
  {
   "cell_type": "markdown",
   "metadata": {
    "deletable": false,
    "editable": false,
    "nbgrader": {
     "cell_type": "markdown",
     "checksum": "e49d5f9b96799f65a64a8faf9a916d09",
     "grade": false,
     "grade_id": "cell-ca39a2ee06ae6f53",
     "locked": true,
     "schema_version": 3,
     "solution": false,
     "task": false
    }
   },
   "source": [
    "### Import all necessary libraries"
   ]
  },
  {
   "cell_type": "code",
   "execution_count": 3,
   "metadata": {
    "deletable": false,
    "editable": false,
    "nbgrader": {
     "cell_type": "code",
     "checksum": "76785fab6bacd3211b77ae3c00560425",
     "grade": false,
     "grade_id": "cell-080202b19ef83038",
     "locked": true,
     "schema_version": 3,
     "solution": false,
     "task": false
    }
   },
   "outputs": [],
   "source": [
    "# you should be familiar with numpy, pandas and matplotlib from HW0\n",
    "import numpy as np\n",
    "# set a seed for reproducibility\n",
    "np.random.seed(23)\n",
    "\n",
    "import pandas as pd\n",
    "import matplotlib.pyplot as plt\n",
    "\n",
    "# we're using the Diabetes dataset from sklearn.datasets\n",
    "from sklearn import datasets\n",
    "\n",
    "# we will also be using the DecisionTreeClassifier library from scikit learn for this exercise\n",
    "from sklearn.tree import DecisionTreeClassifier\n",
    "from sklearn.tree import plot_tree\n",
    "\n",
    "# we will use the MinMaxScaler method to scale our data\n",
    "from sklearn.preprocessing import MinMaxScaler\n",
    "\n",
    "# to generate k-folds from the data\n",
    "from sklearn.model_selection import KFold, train_test_split\n",
    "\n",
    "# we will also use sklearn.metrics to calculate a confusion matrix\n",
    "from sklearn.metrics import confusion_matrix\n",
    "\n",
    "# to calulate distance matrix\n",
    "from sklearn.metrics import pairwise_distances\n",
    "\n",
    "# Remember you have to run this cell block before continuing!"
   ]
  },
  {
   "cell_type": "markdown",
   "metadata": {
    "deletable": false,
    "editable": false,
    "nbgrader": {
     "cell_type": "markdown",
     "checksum": "b722d3761d3158c482a9c7f2a811621a",
     "grade": false,
     "grade_id": "cell-a40c01cfb0407a04",
     "locked": true,
     "schema_version": 3,
     "solution": false,
     "task": false
    }
   },
   "source": [
    "### Data\n",
    "\n",
    "We'll be using the Wine dataset from previous exercises for this homework.\n",
    "Please note that we've already split the dataset into three parts:\n",
    "* a ***wine_train.csv*** which is used to train your models\n",
    "* a ***wine_test.csv*** which you will use to evaluate your models\n",
    "* another dataset, having the same properties as wine_train and wine_test to be used by the TAs for grading. This is not provided to you and will be used as part of grading your solutions.\n",
    "\n",
    "You are provided the following variables:\n",
    "\n",
    "* ```wine_train_x```: a numpy array referring to the features in training data. Each row is a separate data point and each column refers to the features.\n",
    "* ```wine_train_y```: a numpy array of shape refers to the class variable in training data.\n",
    "* ```wine_test_x```: a numpy array referring to the features in test data. Each row is a separate data point and each column refers to the features. Test data and training data have the same features. \n",
    "* ```wine_test_y```: a numpy array referring to the class variable in test data"
   ]
  },
  {
   "cell_type": "code",
   "execution_count": 4,
   "metadata": {
    "deletable": false,
    "editable": false,
    "nbgrader": {
     "cell_type": "code",
     "checksum": "61be52e1f48a986f812691f06adb17f0",
     "grade": false,
     "grade_id": "cell-2544593fc499757f",
     "locked": true,
     "schema_version": 3,
     "solution": false,
     "task": false
    }
   },
   "outputs": [],
   "source": [
    "wine_train = pd.read_csv('/etc/data/wine_train.csv')\n",
    "wine_test = pd.read_csv('/etc/data/wine_test.csv')\n",
    "\n",
    "# split the training data frame into features and class variables for use later. \n",
    "# take a look at the variable names and their descriptions in the cell above.\n",
    "wine_train_y = wine_train['Wine_Type'].values\n",
    "wine_train_x = wine_train.drop(['Wine_Type'], axis=1).values\n",
    "\n",
    "# now do the same with test data\n",
    "wine_test_y = wine_test['Wine_Type'].values\n",
    "wine_test_x = wine_test.drop(['Wine_Type'], axis=1).values"
   ]
  },
  {
   "cell_type": "markdown",
   "metadata": {
    "deletable": false,
    "editable": false,
    "nbgrader": {
     "cell_type": "markdown",
     "checksum": "04ce145d6ae93bc0cc4780890bd90da2",
     "grade": false,
     "grade_id": "cell-f243722296d2b41f",
     "locked": true,
     "schema_version": 3,
     "solution": false,
     "task": false
    }
   },
   "source": [
    "# Problem 1.1: Evaluation Measures\n",
    "In this 2-part problem, you will be writing code to calculate accuracy, precision, recall and f1 score **by hand**, from a confusion matrix generated by sklearn.\n",
    "\n",
    "*Note*: In practice, sklearn offers methods to calculate each of these scores, but you are asked to calculate them by hand to practice working with a confusion matrix."
   ]
  },
  {
   "cell_type": "code",
   "execution_count": 5,
   "metadata": {
    "deletable": false,
    "nbgrader": {
     "cell_type": "code",
     "checksum": "e89c00144302f04eea773bb8b63b4c29",
     "grade": false,
     "grade_id": "cell-c5f7551ee8669b49",
     "locked": false,
     "schema_version": 3,
     "solution": true,
     "task": false
    }
   },
   "outputs": [],
   "source": [
    "def evaluation_measures(y_true, y_pred):\n",
    "    \"\"\"\n",
    "    Write a single function to calculate accuracy and a confusion matrix for the given data\n",
    "    Input:\n",
    "        y_true: A numpy array containing the actual ground truth labels\n",
    "        y_pred: A numpy array containing the predicted labels from a model (such as a decision tree or knn classifier)\n",
    "                y_pred has the same dimensions as y_true\n",
    "                \n",
    "    Output:\n",
    "        A list in the following order:\n",
    "        overall accuracy score, confusion matrix\n",
    "    \n",
    "    Allowed Libraries: sklearn.metrics.confusion_matrix and np methods *only* (no other sklearn metrics)\n",
    "    \n",
    "    Hint: Take a look at confusion_matrix method from sklearn.metrics\n",
    "    \"\"\"\n",
    "    # YOUR CODE HERE\n",
    "    confusion = confusion_matrix(y_true, y_pred)\n",
    "    acc = sum([confusion[i][i] for i in range(len(confusion))]) / np.sum(confusion)\n",
    "    \n",
    "    return [acc, confusion]"
   ]
  },
  {
   "cell_type": "code",
   "execution_count": 6,
   "metadata": {},
   "outputs": [
    {
     "name": "stdout",
     "output_type": "stream",
     "text": [
      "Accuracy of the dummy data is 0.8333333333333334\n",
      "Confusion Matrix is\n",
      "[[2 0]\n",
      " [1 3]]\n"
     ]
    }
   ],
   "source": [
    "# Test your code!\n",
    "# creating two random roles\n",
    "true_labels = np.array([0, 1, 1, 0, 1, 1]) \n",
    "pred_labels = np.array([0, 0, 1, 0, 1, 1]) \n",
    "accuracy, cm = evaluation_measures(y_true=true_labels, y_pred=pred_labels)\n",
    "# Note: sklearn's Confusion matrix puts true negatives in M[0, 0], but you may be\n",
    "# used to seeing them at [1, 1] from the slides in class. Read the documentation.\n",
    "print(f'Accuracy of the dummy data is {accuracy}\\nConfusion Matrix is\\n{cm}')"
   ]
  },
  {
   "cell_type": "code",
   "execution_count": 7,
   "metadata": {
    "deletable": false,
    "editable": false,
    "nbgrader": {
     "cell_type": "code",
     "checksum": "c1a31619fcb6996b619ae995c93fdb06",
     "grade": true,
     "grade_id": "evaluation_measures-public",
     "locked": true,
     "points": 2,
     "schema_version": 3,
     "solution": false,
     "task": false
    }
   },
   "outputs": [],
   "source": [
    "true_labels = np.array([0, 1, 1, 0, 1, 1]) \n",
    "pred_labels = np.array([0, 0, 1, 0, 1, 1]) \n",
    "evaluation_results = evaluation_measures(y_true=true_labels, y_pred=pred_labels)\n",
    "assert type(evaluation_results) == list\n",
    "assert len(evaluation_results) == 2\n",
    "np.testing.assert_almost_equal(evaluation_results[0], 0.8333333333333334)\n",
    "np.testing.assert_equal(evaluation_results[1], np.array([[2, 0], [1, 3]]))"
   ]
  },
  {
   "cell_type": "code",
   "execution_count": 8,
   "metadata": {
    "deletable": false,
    "editable": false,
    "nbgrader": {
     "cell_type": "code",
     "checksum": "637e82498fadbdd07ee68792343737b8",
     "grade": true,
     "grade_id": "evaluation_measures-hidden",
     "locked": true,
     "points": 1,
     "schema_version": 3,
     "solution": false,
     "task": false
    }
   },
   "outputs": [],
   "source": [
    "# Remember, we will also use hidden test cases - you should create your own too"
   ]
  },
  {
   "cell_type": "code",
   "execution_count": 9,
   "metadata": {
    "deletable": false,
    "nbgrader": {
     "cell_type": "code",
     "checksum": "79bdca0f43ca32efb34fb96dcc8330e2",
     "grade": false,
     "grade_id": "cell-d3038fef07ae9726",
     "locked": false,
     "schema_version": 3,
     "solution": true,
     "task": false
    }
   },
   "outputs": [],
   "source": [
    "def evaluation_measures2(y_true, y_pred):\n",
    "    \"\"\"\n",
    "    Write a single function to calculate precision, recall and f1 score for the given data.\n",
    "    Input: Two binary vectors of 0s (negative class) or 1s (positive class)\n",
    "        y_true: A numpy array containing the actual ground truth labels\n",
    "        y_pred: A numpy array containing the predicted labels from a model (such as a decision tree or knn classifier)\n",
    "                y_pred has the same dimensions as y_true\n",
    "                \n",
    "    Output:\n",
    "        A list in the following order:\n",
    "        precision, recall, f1-score\n",
    "        \n",
    "    Note: You can assume there are only 2 classes, 1 (positive) and 0 (negative)\n",
    "    \n",
    "    Allowed Libraries: sklearn.metrics.confusion_matrix and np methods *only* (no other sklearn metrics)\n",
    "    \n",
    "    Hint: Take a look at confusion_matrix method from sklearn.metrics\n",
    "    \"\"\"\n",
    "    # YOUR CODE HERE\n",
    "    tn, fp, fn, tp = confusion_matrix(y_true, y_pred).ravel()\n",
    "    prec = tp / (tp + fp)# if tp + fp != 0 else 0\n",
    "    rec = tp / (tp + fn) #if tp + fn != 0 else 0\n",
    "    f1 = 2 * prec * rec / (prec + rec) if prec + rec != 0 else 0\n",
    "    \n",
    "    return [prec, rec, f1]"
   ]
  },
  {
   "cell_type": "code",
   "execution_count": 10,
   "metadata": {},
   "outputs": [
    {
     "name": "stdout",
     "output_type": "stream",
     "text": [
      "Precision: 1.0\n",
      "Recall: 0.75\n",
      "F1: 0.8571428571428571\n"
     ]
    }
   ],
   "source": [
    "# Test your code!\n",
    "# creating two random roles\n",
    "true_labels = np.array([0, 1, 1, 0, 1, 1]) \n",
    "pred_labels = np.array([0, 0, 1, 0, 1, 1]) \n",
    "precision, recall, f1 = evaluation_measures2(y_true=true_labels, y_pred=pred_labels)\n",
    "# Calculate these values by hand - are they correct?\n",
    "print(f'Precision: {precision}\\nRecall: {recall}\\nF1: {f1}')"
   ]
  },
  {
   "cell_type": "code",
   "execution_count": 11,
   "metadata": {
    "deletable": false,
    "editable": false,
    "nbgrader": {
     "cell_type": "code",
     "checksum": "7cee1bffaefaa262b376ac7002a6407d",
     "grade": true,
     "grade_id": "evaluation_measures2-public",
     "locked": true,
     "points": 2,
     "schema_version": 3,
     "solution": false,
     "task": false
    }
   },
   "outputs": [],
   "source": [
    "true_labels = np.array([0, 1, 1, 0, 1, 1]) \n",
    "pred_labels = np.array([0, 0, 1, 0, 1, 1]) \n",
    "evaluation_results = evaluation_measures2(y_true=true_labels, y_pred=pred_labels)\n",
    "assert type(evaluation_results) == list\n",
    "assert len(evaluation_results) == 3\n",
    "np.testing.assert_almost_equal(evaluation_results[0], 3/3)\n",
    "np.testing.assert_almost_equal(evaluation_results[1], 3/4)\n",
    "np.testing.assert_almost_equal(evaluation_results[2], 3/3.5)"
   ]
  },
  {
   "cell_type": "code",
   "execution_count": 12,
   "metadata": {
    "deletable": false,
    "editable": false,
    "nbgrader": {
     "cell_type": "code",
     "checksum": "2e99882a4cb2903884d257ceb31d5862",
     "grade": true,
     "grade_id": "evaluation_measures2-hidden",
     "locked": true,
     "points": 1,
     "schema_version": 3,
     "solution": false,
     "task": false
    }
   },
   "outputs": [],
   "source": [
    "# Remember, we will also use hidden test cases - you should create your own too"
   ]
  },
  {
   "cell_type": "markdown",
   "metadata": {
    "deletable": false,
    "editable": false,
    "nbgrader": {
     "cell_type": "markdown",
     "checksum": "40d5f65206f60db6bf8efb172559e8e3",
     "grade": false,
     "grade_id": "cell-72b5a8eeb6cd3177",
     "locked": true,
     "schema_version": 3,
     "solution": false,
     "task": false
    }
   },
   "source": [
    "# Decision Trees"
   ]
  },
  {
   "cell_type": "markdown",
   "metadata": {
    "deletable": false,
    "editable": false,
    "nbgrader": {
     "cell_type": "markdown",
     "checksum": "0ed6869856189485bd97c67520247cf2",
     "grade": false,
     "grade_id": "cell-cacb4e76a76592ca",
     "locked": true,
     "schema_version": 3,
     "solution": false,
     "task": false
    }
   },
   "source": [
    "## Examples\n",
    "\n",
    "You can perform classification using a DecisionTree in python using the scikit-learn library. \n",
    "\n",
    "Take a look at the [documentation](https://scikit-learn.org/stable/modules/generated/sklearn.tree.DecisionTreeClassifier.html#sklearn.tree.DecisionTreeClassifier) to get a clear understanding of all function arguments.\n",
    "\n",
    "Given below is a simple toy example for you to learn how to use the DecisionTreeClassifier."
   ]
  },
  {
   "cell_type": "code",
   "execution_count": 13,
   "metadata": {},
   "outputs": [
    {
     "name": "stdout",
     "output_type": "stream",
     "text": [
      "Predicted labels shape is (50,)\n",
      "Accuracy of your model is 0.96,\n",
      "Confusion matrix is:\n",
      " [[19  0  0]\n",
      " [ 0 15  0]\n",
      " [ 0  2 14]]\n"
     ]
    },
    {
     "data": {
      "text/plain": [
       "[Text(133.92000000000002, 199.32, 'X[3] <= 0.292\\ngini = 0.666\\nsamples = 100\\nvalue = [31, 35, 34]'),\n",
       " Text(100.44000000000001, 163.07999999999998, 'gini = 0.0\\nsamples = 31\\nvalue = [31, 0, 0]'),\n",
       " Text(167.40000000000003, 163.07999999999998, 'X[2] <= 0.653\\ngini = 0.5\\nsamples = 69\\nvalue = [0, 35, 34]'),\n",
       " Text(66.96000000000001, 126.83999999999999, 'X[3] <= 0.667\\ngini = 0.059\\nsamples = 33\\nvalue = [0, 32, 1]'),\n",
       " Text(33.480000000000004, 90.6, 'gini = 0.0\\nsamples = 31\\nvalue = [0, 31, 0]'),\n",
       " Text(100.44000000000001, 90.6, 'X[0] <= 0.485\\ngini = 0.5\\nsamples = 2\\nvalue = [0, 1, 1]'),\n",
       " Text(66.96000000000001, 54.359999999999985, 'gini = 0.0\\nsamples = 1\\nvalue = [0, 1, 0]'),\n",
       " Text(133.92000000000002, 54.359999999999985, 'gini = 0.0\\nsamples = 1\\nvalue = [0, 0, 1]'),\n",
       " Text(267.84000000000003, 126.83999999999999, 'X[3] <= 0.688\\ngini = 0.153\\nsamples = 36\\nvalue = [0, 3, 33]'),\n",
       " Text(234.36, 90.6, 'X[2] <= 0.737\\ngini = 0.5\\nsamples = 6\\nvalue = [0, 3, 3]'),\n",
       " Text(200.88000000000002, 54.359999999999985, 'X[1] <= 0.146\\ngini = 0.375\\nsamples = 4\\nvalue = [0, 3, 1]'),\n",
       " Text(167.40000000000003, 18.119999999999976, 'gini = 0.0\\nsamples = 1\\nvalue = [0, 0, 1]'),\n",
       " Text(234.36, 18.119999999999976, 'gini = 0.0\\nsamples = 3\\nvalue = [0, 3, 0]'),\n",
       " Text(267.84000000000003, 54.359999999999985, 'gini = 0.0\\nsamples = 2\\nvalue = [0, 0, 2]'),\n",
       " Text(301.32000000000005, 90.6, 'gini = 0.0\\nsamples = 30\\nvalue = [0, 0, 30]')]"
      ]
     },
     "execution_count": 13,
     "metadata": {},
     "output_type": "execute_result"
    },
    {
     "data": {
      "image/png": "[encoded data removed]",
      "text/plain": [
       "<Figure size 432x288 with 1 Axes>"
      ]
     },
     "metadata": {
      "needs_background": "light"
     },
     "output_type": "display_data"
    }
   ],
   "source": [
    "# let's use a toy dataset to demonstrate DecisionTreeClassifier. \n",
    "# We are using the iris dataset from sklearn.datasets as our toy dataset.\n",
    "# We will apply DecisionTreeClassifier on it and perform classification. \n",
    "# we will use train_test_split from Sklearn to split our data into training and testing in a stratified manner\n",
    "# first, load the data\n",
    "toy_dataset_sk = datasets.load_iris()\n",
    "toy_labels = toy_dataset_sk.target\n",
    "\n",
    "# split into train and test in a stratified manner\n",
    "toy_dataset_train, toy_dataset_test, toy_labels_train, toy_labels_test = train_test_split(toy_dataset_sk.data, \n",
    "                                                                                          toy_labels, \n",
    "                                                                                          test_size = 0.33)\n",
    "\n",
    "# scale the train and test datasets\n",
    "# note that we fit the scaler only on the training dataset, since we\n",
    "# should not \"leak\" information from the test dataset (e.g. it's mean, sd)\n",
    "# into the model\n",
    "toy_scaler = MinMaxScaler().fit(toy_dataset_train)\n",
    "toy_dataset_train = toy_scaler.transform(toy_dataset_train)\n",
    "toy_dataset_test = toy_scaler.transform(toy_dataset_test)\n",
    "\n",
    "# apply DecisionTreeClassifier on the toy dataset \n",
    "# in this case, we're using the gini index to split the data\n",
    "# first initialize the DecisionTreeClassifier variable\n",
    "# we'll also set the seed to 23 for reproducibility\n",
    "toy_decision_tree = DecisionTreeClassifier(criterion='gini', random_state=23)\n",
    "# now, train the model\n",
    "toy_decision_tree.fit(X=toy_dataset_train, y=toy_labels_train)\n",
    "# predict on the test set\n",
    "toy_predictions = toy_decision_tree.predict(X=toy_dataset_test)\n",
    "\n",
    "# evaluate your model and print the accuracy \n",
    "toy_evaluations = evaluation_measures(y_true=toy_labels_test, y_pred=toy_predictions)\n",
    "\n",
    "# print the evaluation of the model\n",
    "print(f'Predicted labels shape is {toy_labels_test.shape}\\nAccuracy of your model is {toy_evaluations[0]},\\\n",
    "\\nConfusion matrix is:\\n {toy_evaluations[1]}')\n",
    "\n",
    "# print the tree itself, using the sklearn.tree.plot_tree function\n",
    "plot_tree(toy_decision_tree)"
   ]
  },
  {
   "cell_type": "markdown",
   "metadata": {},
   "source": [
    "# Problem 1.2: Decision Tree"
   ]
  },
  {
   "cell_type": "code",
   "execution_count": 14,
   "metadata": {
    "deletable": false,
    "nbgrader": {
     "cell_type": "code",
     "checksum": "3e3cf3769cab6a06f9f7e592cf11df4a",
     "grade": false,
     "grade_id": "cell-7343ef047a51a9e2",
     "locked": false,
     "schema_version": 3,
     "solution": true,
     "task": false
    }
   },
   "outputs": [],
   "source": [
    "def dtree(x_train, y_train, x_test, criterion, random_state):\n",
    "    \"\"\"\n",
    "    Using the example above, you will build a decision tree using the x_train and y_train and predict using x_test.\n",
    "    Your inputs and outputs are as shown below:\n",
    "    \n",
    "    Input:\n",
    "          x_train: A numpy array of shape (n_training_rows, n_attributes) where n_training_rows refers to \n",
    "          the number of rows in your training dataset and n_attributes refers to the number of attributes. \n",
    "          y_train: A numpy array of shape (n_training_rows, ) containing the class labels for each row in your \n",
    "          training dataset.\n",
    "          x_test: A numpy array of shape (n_testing_rows, n_attributes) where n_testing_rows refers to the number \n",
    "          of rows in your testing dataset and n_attributes refers to the number of attributes. \n",
    "          criterion: A string variable, can be either 'entropy' or 'gini'\n",
    "          random_state: An integer to specify the random seed for the classifier (this creates deterministic output)\n",
    "          \n",
    "    Output:\n",
    "          A numpy array of shape (n_testing_rows, ) containing the predicted labels for each row in your testing dataset. \n",
    "    Allowed Libraries: sklearn\n",
    "    \"\"\"\n",
    "    \n",
    "    # YOUR CODE HERE\n",
    "    tree = DecisionTreeClassifier(criterion=criterion, random_state=random_state)\n",
    "    tree.fit(x_train, y_train)\n",
    "    \n",
    "    return tree.predict(x_test)"
   ]
  },
  {
   "cell_type": "code",
   "execution_count": 15,
   "metadata": {},
   "outputs": [
    {
     "name": "stdout",
     "output_type": "stream",
     "text": [
      "Predicted labels shape is (40,)\n",
      "Accuracy of your model is 0.95\n",
      "Confusion matrix of your model is\n",
      " [[15  0  0]\n",
      " [ 0 13  2]\n",
      " [ 0  0 10]]\n"
     ]
    }
   ],
   "source": [
    "# Test your code!\n",
    "wine_dtree_predictions = dtree(x_train=wine_train_x, y_train=wine_train_y,\n",
    "                               x_test=wine_test_x, \n",
    "                               criterion='gini', \n",
    "                               random_state=23)\n",
    "wine_dtree_evaluations = evaluation_measures(y_true=wine_test_y,\n",
    "                                    y_pred=wine_dtree_predictions)\n",
    "print(f'Predicted labels shape is {wine_dtree_predictions.shape}\\\n",
    "\\nAccuracy of your model is {wine_dtree_evaluations[0]}\\\n",
    "\\nConfusion matrix of your model is\\n {wine_dtree_evaluations[1]}')"
   ]
  },
  {
   "cell_type": "code",
   "execution_count": 16,
   "metadata": {
    "deletable": false,
    "editable": false,
    "nbgrader": {
     "cell_type": "code",
     "checksum": "af0d65a180f8e44808f464487397f632",
     "grade": true,
     "grade_id": "dtree-public",
     "locked": true,
     "points": 4,
     "schema_version": 3,
     "solution": false,
     "task": false
    }
   },
   "outputs": [],
   "source": [
    "wine_dtree_predictions = dtree(x_train=wine_train_x, y_train=wine_train_y,\n",
    "                               x_test=wine_test_x, \n",
    "                               criterion='entropy', \n",
    "                               random_state=23)\n",
    "wine_dtree_evaluations = evaluation_measures(y_true=wine_test_y,\n",
    "                                    y_pred=wine_dtree_predictions)\n",
    "assert wine_dtree_predictions.shape[0] == 40\n",
    "np.testing.assert_equal(wine_dtree_evaluations[0], 0.9)\n",
    "wine_confusion_matrix = np.array([[14, 1, 0], [2, 12, 1], [0, 0, 10]])\n",
    "np.testing.assert_equal(wine_dtree_evaluations[1], wine_confusion_matrix)"
   ]
  },
  {
   "cell_type": "code",
   "execution_count": 17,
   "metadata": {
    "deletable": false,
    "editable": false,
    "nbgrader": {
     "cell_type": "code",
     "checksum": "75bb6b634286ab91597f779fe1cba6b4",
     "grade": true,
     "grade_id": "dtree-hidden",
     "locked": true,
     "points": 2,
     "schema_version": 3,
     "solution": false,
     "task": false
    }
   },
   "outputs": [],
   "source": [
    "# Remember, we will also use hidden test cases - you should create your own too"
   ]
  },
  {
   "cell_type": "markdown",
   "metadata": {
    "deletable": false,
    "editable": false,
    "nbgrader": {
     "cell_type": "markdown",
     "checksum": "874f70ee39b2ced5af8942fbb214f8ea",
     "grade": false,
     "grade_id": "cell-f5027607b9e09be7",
     "locked": true,
     "schema_version": 3,
     "solution": false,
     "task": false
    }
   },
   "source": [
    "# Problem 1.3: k - Nearest Neighbors\n",
    "\n",
    "In HW1, we evaluated some distances (cosine, euclidean). Now we'll use them to perform classification using the K-Nearest Neighbors algorithm. \n",
    "\n",
    "\n",
    "## Instructions\n",
    "Please read the following instructions carefully before implementing your method:\n",
    "\n",
    "* **NOTE 1:** In this exercise, you're being asked to **implement** the K-Nearest Neighbors algorithm. Using the standard knn methods from sklearn or any builtin knn methods will result in an automatic zero.\n",
    "\n",
    "* **NOTE 2:** In case of conflicts, with equal nearest neighbors of different classes, choose the class with lower numerical value. E.g.: in 4NN, if you have 2 NN of class 1, 2 NN of class 2, there is a conflict b/w class 1 and class 2\n",
    "  In this case, you will choose class 1. \n",
    "              "
   ]
  },
  {
   "cell_type": "code",
   "execution_count": 18,
   "metadata": {
    "deletable": false,
    "editable": false,
    "nbgrader": {
     "cell_type": "code",
     "checksum": "83aad0e43c23588a6416a6e2a3fde029",
     "grade": false,
     "grade_id": "cell-91bcee684751b640",
     "locked": true,
     "schema_version": 3,
     "solution": false,
     "task": false
    }
   },
   "outputs": [],
   "source": [
    "# Some useful functions for the knn method\n",
    "def calculate_distance_matrix(x_test , x_train, distance_type):\n",
    "    \"\"\"\n",
    "    This method calculates the distance matrix required for KNN classifier\n",
    "    Use this method to make your distance calculations easy.\n",
    "    \n",
    "    Input: x_test and x_train are two numpy matrices referring to the test features and train features respectively. \n",
    "           distance_type is a string specifying the type of distance. Can be 'euclidean_distance' or 'cosine_distance'\n",
    "    Output: A matrix of shape (test_rows, train_rows), where the item at index [i, j] is the distance between\n",
    "            x_test[i] and x_train[j].\n",
    "    \"\"\"\n",
    "    if distance_type == 'euclidean_distance':\n",
    "        return pairwise_distances(x_test, x_train, metric='euclidean')\n",
    "    elif distance_type == 'cosine_distance':\n",
    "        return pairwise_distances(x_test, x_train, metric='cosine')\n",
    "    else:\n",
    "        return None\n",
    "    "
   ]
  },
  {
   "cell_type": "markdown",
   "metadata": {
    "deletable": false,
    "editable": false,
    "nbgrader": {
     "cell_type": "markdown",
     "checksum": "0caae12faee5c3a398c90bec7df768fd",
     "grade": false,
     "grade_id": "cell-5a689b1d4f0e64e5",
     "locked": true,
     "schema_version": 3,
     "solution": false,
     "task": false
    }
   },
   "source": [
    "### Some examples that may help you with the exercise"
   ]
  },
  {
   "cell_type": "code",
   "execution_count": 19,
   "metadata": {},
   "outputs": [
    {
     "name": "stdout",
     "output_type": "stream",
     "text": [
      "Shape of the toy_distance_matrix is (50, 100)\n",
      "\n",
      "Distances of the 1st test instance to the first 20 rows in the training data, respectively: \n",
      "[0.24139627 0.25486661 1.21078229 0.43009841 0.53117037 0.31897809\n",
      " 0.43671289 0.43830209 1.2008583  0.1410621  0.19383105 1.20912393\n",
      " 0.58737102 1.06063354 0.19596018 0.66938633 0.33451659 0.20034097\n",
      " 0.37216494 0.40413329]\n",
      "\n",
      "The indices of nearest neighbors :\n",
      "[ 9 10 14 17  0  1  5 16 18 19  3  6  7  4 12 15 13  8 11  2]\n",
      "\n",
      "The classes of the 3 nearest neighbors: [2 1 2]\n",
      "\n",
      "The classes of the test instance: 2\n"
     ]
    }
   ],
   "source": [
    "# We're using the same toy_dataset_train, toy_dataset_test, toy_labels_train, toy_labels_test\n",
    "# variables from the previous exercise. Please make sure you run that cell before running this.\n",
    "\n",
    "# let us compute the euclidean distance matrix between toy_dataset_train and toy_dataset_test\n",
    "toy_knn_distance_matrix = calculate_distance_matrix(\n",
    "    toy_dataset_test, toy_dataset_train, 'euclidean_distance')\n",
    "\n",
    "# check the shape of the toy_distance_matrix. \n",
    "# It is the distance from the 50 test points to every training point (100 in total). \n",
    "# So the shape should be (50, 100)\n",
    "print(f'Shape of the toy_distance_matrix is {toy_knn_distance_matrix.shape}\\n')\n",
    "\n",
    "first_instance_distances = toy_knn_distance_matrix[0,0:20]\n",
    "print('Distances of the 1st test instance to the first 20 rows in the ' +\n",
    "      f'training data, respectively: \\n{first_instance_distances}\\n')\n",
    "\n",
    "# argsort sorts an array, but it returns the *indexes* of the items in original array, in sorted order\n",
    "# See: https://numpy.org/doc/stable/reference/generated/numpy.argsort.html\n",
    "sorted_indices = np.argsort(first_instance_distances)\n",
    "# Note that the first item is 9, and index 9 (0-based) of the distances is 0.1410621, the lowest value\n",
    "print(f'The indices of nearest neighbors :\\n{sorted_indices}')\n",
    "\n",
    "# Indices of the nearest 3 neighbors (in the first 20 rows of the training dataset)\n",
    "nearest_neighbor_indices = sorted_indices[:3]\n",
    "nn_classes = toy_labels_train[nearest_neighbor_indices]\n",
    "print (f'\\nThe classes of the 3 nearest neighbors: {nn_classes}')\n",
    "print (f'\\nThe classes of the test instance: {toy_labels_test[0]}')\n",
    "\n",
    "\n"
   ]
  },
  {
   "cell_type": "code",
   "execution_count": 20,
   "metadata": {},
   "outputs": [
    {
     "name": "stdout",
     "output_type": "stream",
     "text": [
      "Python 3.7.3\r\n"
     ]
    }
   ],
   "source": [
    "!python3 --version"
   ]
  },
  {
   "cell_type": "code",
   "execution_count": 21,
   "metadata": {},
   "outputs": [],
   "source": [
    "from collections import Counter"
   ]
  },
  {
   "cell_type": "code",
   "execution_count": 28,
   "metadata": {
    "deletable": false,
    "nbgrader": {
     "cell_type": "code",
     "checksum": "41a06ee96b6f1c9b14be73bbdebfc213",
     "grade": false,
     "grade_id": "cell-03d5cf564294ded3",
     "locked": false,
     "schema_version": 3,
     "solution": true,
     "task": false
    }
   },
   "outputs": [],
   "source": [
    "def knn(x_train, y_train, x_test, k, distance_type):\n",
    "    \"\"\"\n",
    "    Input:\n",
    "          x_train: A numpy array of shape (n_training_rows, n_attributes) where n_training_rows refers to \n",
    "          the number of rows in your training dataset and n_attributes refers to the number of attributes. \n",
    "          y_train: A numpy array of shape (n_training_rows, ) containing the class labels for each row in your \n",
    "          training dataset.\n",
    "          x_test: A numpy array of shape (n_testing_rows, n_attributes) where n_testing_rows refers to the number \n",
    "          of rows in your testing dataset and n_attributes refers to the number of attributes.\n",
    "          k: An integer specifying the number of nearest neighbors \n",
    "          distance_type: A string describing the type of distance (can be 'cosine_distance' or 'euclidean_distance')\n",
    "          \n",
    "    Output:\n",
    "           A numpy vector of the shape (n_testing_rows, ) containing the predicted labels for each testing data point.\n",
    "            \n",
    "    \"\"\"\n",
    "    # YOUR CODE HERE\n",
    "    dist = calculate_distance_matrix(x_test, x_train, distance_type)\n",
    "    nearest = np.argsort(dist, axis=1)[:,:k]\n",
    "    nearest_labels = y_train[nearest]\n",
    "    \n",
    "    def get_mode(x): \n",
    "        ctr = Counter(x)\n",
    "        common = ctr.most_common()\n",
    "        amax = max(common, key=lambda p: p[1])[1]\n",
    "        maxes = list(filter(lambda p: p[1] == amax, common))\n",
    "        return min(maxes, key=lambda p: p[0])[0]\n",
    "    \n",
    "    return np.array(list(map(get_mode, nearest_labels)))"
   ]
  },
  {
   "cell_type": "code",
   "execution_count": 29,
   "metadata": {
    "scrolled": true
   },
   "outputs": [
    {
     "name": "stdout",
     "output_type": "stream",
     "text": [
      "[(1, 2), (0, 1)]\n",
      "2\n",
      "[(1, 2)]\n",
      "[(1, 2), (2, 1)]\n",
      "2\n",
      "[(1, 2)]\n",
      "[(0, 3)]\n",
      "3\n",
      "[(0, 3)]\n",
      "[(0, 2), (1, 1)]\n",
      "2\n",
      "[(0, 2)]\n",
      "[(0, 2), (1, 1)]\n",
      "2\n",
      "[(0, 2)]\n",
      "[(0, 3)]\n",
      "3\n",
      "[(0, 3)]\n",
      "[(0, 3)]\n",
      "3\n",
      "[(0, 3)]\n",
      "[(0, 3)]\n",
      "3\n",
      "[(0, 3)]\n",
      "[(1, 2), (0, 1)]\n",
      "2\n",
      "[(1, 2)]\n",
      "[(0, 3)]\n",
      "3\n",
      "[(0, 3)]\n",
      "[(2, 3)]\n",
      "3\n",
      "[(2, 3)]\n",
      "[(0, 3)]\n",
      "3\n",
      "[(0, 3)]\n",
      "[(0, 3)]\n",
      "3\n",
      "[(0, 3)]\n",
      "[(0, 3)]\n",
      "3\n",
      "[(0, 3)]\n",
      "[(0, 2), (1, 1)]\n",
      "2\n",
      "[(0, 2)]\n",
      "[(1, 3)]\n",
      "3\n",
      "[(1, 3)]\n",
      "[(0, 3)]\n",
      "3\n",
      "[(0, 3)]\n",
      "[(0, 3)]\n",
      "3\n",
      "[(0, 3)]\n",
      "[(2, 3)]\n",
      "3\n",
      "[(2, 3)]\n",
      "[(0, 3)]\n",
      "3\n",
      "[(0, 3)]\n",
      "[(1, 3)]\n",
      "3\n",
      "[(1, 3)]\n",
      "[(1, 2), (0, 1)]\n",
      "2\n",
      "[(1, 2)]\n",
      "[(2, 3)]\n",
      "3\n",
      "[(2, 3)]\n",
      "[(1, 3)]\n",
      "3\n",
      "[(1, 3)]\n",
      "[(1, 3)]\n",
      "3\n",
      "[(1, 3)]\n",
      "[(2, 2), (1, 1)]\n",
      "2\n",
      "[(2, 2)]\n",
      "[(0, 3)]\n",
      "3\n",
      "[(0, 3)]\n",
      "[(2, 3)]\n",
      "3\n",
      "[(2, 3)]\n",
      "[(1, 2), (2, 1)]\n",
      "2\n",
      "[(1, 2)]\n",
      "[(0, 3)]\n",
      "3\n",
      "[(0, 3)]\n",
      "[(2, 3)]\n",
      "3\n",
      "[(2, 3)]\n",
      "[(0, 3)]\n",
      "3\n",
      "[(0, 3)]\n",
      "[(0, 3)]\n",
      "3\n",
      "[(0, 3)]\n",
      "[(1, 3)]\n",
      "3\n",
      "[(1, 3)]\n",
      "[(2, 3)]\n",
      "3\n",
      "[(2, 3)]\n",
      "[(2, 3)]\n",
      "3\n",
      "[(2, 3)]\n",
      "[(1, 3)]\n",
      "3\n",
      "[(1, 3)]\n",
      "[(2, 3)]\n",
      "3\n",
      "[(2, 3)]\n",
      "[(2, 3)]\n",
      "3\n",
      "[(2, 3)]\n",
      "[(1, 3)]\n",
      "3\n",
      "[(1, 3)]\n",
      "Predicted labels shape is (40,) \n",
      "Accuracy of your model is 0.925\n",
      "Confusion Matrix is\n",
      "[[15  0  0]\n",
      " [ 3 12  0]\n",
      " [ 0  0 10]]\n"
     ]
    }
   ],
   "source": [
    "# Test your code!\n",
    "wine_knn_predictions =  knn(x_train=wine_train_x, y_train=wine_train_y,\n",
    "                               x_test=wine_test_x, \n",
    "                               k=3,\n",
    "                               distance_type='cosine_distance')\n",
    "wine_knn_evaluations = evaluation_measures(y_true=wine_test_y, y_pred=wine_knn_predictions)\n",
    "print(f'Predicted labels shape is {wine_knn_predictions.shape} \\nAccuracy of your model is {wine_knn_evaluations[0]}\\n\\\n",
    "Confusion Matrix is\\n{wine_knn_evaluations[1]}')"
   ]
  },
  {
   "cell_type": "code",
   "execution_count": null,
   "metadata": {
    "deletable": false,
    "editable": false,
    "nbgrader": {
     "cell_type": "code",
     "checksum": "577f7fba22ef2b4039f65a5a4e1fec47",
     "grade": true,
     "grade_id": "knn",
     "locked": true,
     "points": 10,
     "schema_version": 3,
     "solution": false,
     "task": false
    }
   },
   "outputs": [],
   "source": [
    "wine_knn_predictions =  knn(x_train=wine_train_x, y_train=wine_train_y,\n",
    "                               x_test=wine_test_x, \n",
    "                               k=3,\n",
    "                               distance_type='euclidean_distance')\n",
    "wine_knn_evaluations = evaluation_measures(y_true=wine_test_y, y_pred=wine_knn_predictions)\n",
    "assert wine_knn_predictions.shape[0] == 40\n",
    "np.testing.assert_equal(wine_knn_evaluations[0], 0.9)\n",
    "np.testing.assert_equal(wine_knn_evaluations[1], [[15,0,0], [3,12,0], [0,1,9]])"
   ]
  },
  {
   "cell_type": "code",
   "execution_count": null,
   "metadata": {
    "deletable": false,
    "editable": false,
    "nbgrader": {
     "cell_type": "code",
     "checksum": "53adc5e5e83dbf8255bf380475fa041d",
     "grade": true,
     "grade_id": "knn_hidden",
     "locked": true,
     "points": 6,
     "schema_version": 3,
     "solution": false,
     "task": false
    }
   },
   "outputs": [],
   "source": [
    "# Remember, we will also use hidden test cases - you should create your own too"
   ]
  },
  {
   "cell_type": "markdown",
   "metadata": {
    "deletable": false,
    "editable": false,
    "nbgrader": {
     "cell_type": "markdown",
     "checksum": "b236b80cb7788a9f915a6fd2a2239ff2",
     "grade": false,
     "grade_id": "cell-a21add375a4a9ad3",
     "locked": true,
     "schema_version": 3,
     "solution": false,
     "task": false
    }
   },
   "source": [
    "# Problem 4: k-Fold Cross Validation (522: required; 422: bonus)\n",
    "\n",
    "In the next part of this homework, we'll work on k-fold cross validation. \n",
    "We can create random folds using the [KFold method](https://scikit-learn.org/stable/modules/generated/sklearn.model_selection.KFold.html)\n",
    "\n",
    "Let us start with some examples.\n",
    "\n",
    "**Note**: This problem is not required for CSC 422 students, but if completed will count towards extra credit."
   ]
  },
  {
   "cell_type": "code",
   "execution_count": null,
   "metadata": {},
   "outputs": [],
   "source": [
    "# we will initialize n-folds for k-fold cross validation using the KFold method\n",
    "# to create 3 folds set n_folds to 3, shuffle to True and then random_state to 23 for reproducibility\n",
    "toy_k_fold_cv = KFold(n_splits=3, shuffle=True, random_state=23)\n",
    "\n",
    "# let's see which indices are split into train and validation\n",
    "# we'll use the split method which is part of k_fold_cv to extract training and validation splits for each fold\n",
    "\n",
    "# let's keep track of which fold each instance is in\n",
    "folds = [0] * len(toy_dataset_train)\n",
    "\n",
    "fold = 0;\n",
    "for toy_train_indices, toy_val_indices in toy_k_fold_cv.split(toy_dataset_train):\n",
    "    print(f'Fold# {fold}: \\nTraining indices: {toy_train_indices} \\nValidation indices: {toy_val_indices}\\n')\n",
    "    \n",
    "    # for each split, extract the training and validation split (unused here)\n",
    "    toy_train_x_split, toy_val_x_split = toy_dataset_train[toy_train_indices, :], toy_dataset_train[toy_val_indices]\n",
    "    toy_train_y_split, toy_val_y_split = toy_labels_train[toy_train_indices], toy_labels_train[toy_val_indices]\n",
    "    \n",
    "    # keep track of the fold # of each row in the training dataset\n",
    "    for index in toy_val_indices:\n",
    "        folds[index] = fold\n",
    "    \n",
    "    fold += 1\n",
    "    \n",
    "print(folds)\n",
    "    "
   ]
  },
  {
   "cell_type": "markdown",
   "metadata": {
    "deletable": false,
    "editable": false,
    "nbgrader": {
     "cell_type": "markdown",
     "checksum": "85bb78386e2b39801e0262e05dd85c12",
     "grade": false,
     "grade_id": "cell-565931d268b643fd",
     "locked": true,
     "schema_version": 3,
     "solution": false,
     "task": false
    }
   },
   "source": [
    "Implement a method to fully implement crossvalidation to evaluate the knn method you implemented above. This function takes the n_splits (number of folds/splits), the k value for knn, and the distance method for knn as arguments. See the comments below for a complete overview of the function arguments. \n",
    " \n",
    "Your function should return a list of per-fold accuracies. "
   ]
  },
  {
   "cell_type": "code",
   "execution_count": null,
   "metadata": {
    "deletable": false,
    "nbgrader": {
     "cell_type": "code",
     "checksum": "a372f452bd42449a0d91da3853358b09",
     "grade": false,
     "grade_id": "cell-8f9d427a59b09bb3",
     "locked": false,
     "schema_version": 3,
     "solution": true,
     "task": false
    }
   },
   "outputs": [],
   "source": [
    "def kfold_cross_validation(x_train, y_train, n_splits, k_for_knn, distance_type, random_state):\n",
    "    \"\"\"\n",
    "    Write a function that takes training data as x_train, labels as y_train, n_folds as number of folds and \n",
    "    performs n_folds cross validation using a decision tree classifier (use the dtree method from above) \n",
    "    and returns a list containing the accuracies of each fold.\n",
    "    \n",
    "    Input: \n",
    "         x_train: A numpy array of shape (n_training_rows, n_attributes) where n_training_rows refers to \n",
    "          the number of rows in your training dataset and n_attributes refers to the number of attributes. \n",
    "         y_train: A numpy array of shape (n_training_rows, ) containing the class labels for each row in your \n",
    "          training dataset.\n",
    "         n_splits: An integer specifying the number of splits for k-fold cross validation\n",
    "         k_for_knn: An integer indicating the number of nearest neighbors in knn\n",
    "         distance_type: A string describing the type of distance (can be 'cosine_distance' or 'euclidean_distance')\n",
    "         random_state: An integer specifying the seed for the kfolds creation \n",
    "         \n",
    "    Output:\n",
    "         A list containing floating point values containing the accuracies of each fold\n",
    "         Hint: You can use the evaluation_measures method to do this easily.\n",
    "         \n",
    "    IMPORTANT: set shuffle=True in KFold.\n",
    "    \n",
    "    \"\"\"\n",
    "    # YOUR CODE HERE\n",
    "    accuracies = []\n",
    "    \n",
    "    k_fold_cv = KFold(n_splits=n_splits, shuffle=True, random_state=random_state)\n",
    "    for i, (train_idx, test_idx) in enumerate(k_fold_cv.split(x_train)):\n",
    "        x = x_train[train_idx]\n",
    "        y = y_train[train_idx]\n",
    "        xt = x_train[test_idx]\n",
    "        \n",
    "        preds = knn(x, y, xt, k_for_knn, distance_type)\n",
    "        acc = evaluation_measures(y_train[test_idx], preds)[0]\n",
    "        \n",
    "        accuracies.append(acc)\n",
    "    \n",
    "    return np.array(accuracies)"
   ]
  },
  {
   "cell_type": "code",
   "execution_count": null,
   "metadata": {},
   "outputs": [],
   "source": [
    "# Test your function!\n",
    "per_fold_accuracy = kfold_cross_validation(x_train=wine_train_x, \n",
    "                                           y_train=wine_train_y,\n",
    "                                           n_splits=5, \n",
    "                                           k_for_knn=5,\n",
    "                                           distance_type='cosine_distance',\n",
    "                                           random_state=23)\n",
    "\n",
    "# There should be k accuracy for k-fold crossvalidation\n",
    "print(per_fold_accuracy)\n",
    "\n",
    "# We can get the macro-average for an overall accuracy\n",
    "print(np.mean(per_fold_accuracy))"
   ]
  },
  {
   "cell_type": "code",
   "execution_count": null,
   "metadata": {},
   "outputs": [],
   "source": [
    "# What happens if we instead train and test on the same dataset,\n",
    "# instead of using cross-validation?\n",
    "training_predictions = knn(x_train=wine_train_x, \n",
    "                           y_train=wine_train_y, \n",
    "                           x_test=wine_train_x, \n",
    "                           k=5, distance_type='cosine_distance')\n",
    "# The accuracy is higher (by about 5%)\n",
    "evaluation_measures(y_true=wine_train_y, y_pred=training_predictions)[0]\n",
    "# Which is more representative of how the model would perform on unseen data?\n",
    "# Would this difference be higher or lower for k=10? What about k = 1?"
   ]
  },
  {
   "cell_type": "code",
   "execution_count": null,
   "metadata": {
    "deletable": false,
    "editable": false,
    "nbgrader": {
     "cell_type": "code",
     "checksum": "365de47e802364a6af93cbecffa50563",
     "grade": true,
     "grade_id": "kfold_cross_validation-public",
     "locked": true,
     "points": 8,
     "schema_version": 3,
     "solution": false,
     "task": false
    }
   },
   "outputs": [],
   "source": [
    "per_fold_accuracy = kfold_cross_validation(x_train=wine_train_x, \n",
    "                                           y_train=wine_train_y,\n",
    "                                           n_splits=3, \n",
    "                                           k_for_knn=3,\n",
    "                                           distance_type='euclidean_distance',\n",
    "                                           random_state=23)\n",
    "\n",
    "assert type(per_fold_accuracy) == np.ndarray\n",
    "np.testing.assert_almost_equal(per_fold_accuracy, np.array([0.92592593, 0.88461538, 0.96153846])) \n"
   ]
  },
  {
   "cell_type": "code",
   "execution_count": null,
   "metadata": {
    "deletable": false,
    "editable": false,
    "nbgrader": {
     "cell_type": "code",
     "checksum": "ea8216496c511fcf32d5db34c28faaa4",
     "grade": true,
     "grade_id": "kfold_cross_validation-hidden",
     "locked": true,
     "points": 4,
     "schema_version": 3,
     "solution": false,
     "task": false
    }
   },
   "outputs": [],
   "source": [
    "# Remember, we will also use hidden test cases - you should create your own too"
   ]
  },
  {
   "cell_type": "markdown",
   "metadata": {},
   "source": [
    "**Remember**: Make sure to complete all problems (.ipynb files) in this assignment. When you finish, double-check the submission instructions at the top of this file, and submit on JupyterHub and Moodle."
   ]
  }
 ],
 "metadata": {
  "kernelspec": {
   "display_name": "Python 3",
   "language": "python",
   "name": "python3"
  },
  "language_info": {
   "codemirror_mode": {
    "name": "ipython",
    "version": 3
   },
   "file_extension": ".py",
   "mimetype": "text/x-python",
   "name": "python",
   "nbconvert_exporter": "python",
   "pygments_lexer": "ipython3",
   "version": "3.7.3"
  }
 },
 "nbformat": 4,
 "nbformat_minor": 4
}
