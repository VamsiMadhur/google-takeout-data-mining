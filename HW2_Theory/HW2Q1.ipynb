{
 "cells": [
  {
   "cell_type": "code",
   "execution_count": 1,
   "metadata": {},
   "outputs": [],
   "source": [
    "from sklearn.tree import DecisionTreeClassifier, plot_tree\n",
    "import pandas as pd\n",
    "import matplotlib.pyplot as plt\n",
    "import math"
   ]
  },
  {
   "cell_type": "code",
   "execution_count": 2,
   "metadata": {},
   "outputs": [],
   "source": [
    "df = pd.read_csv('hw2q1.csv')\n",
    "X = df[df.columns[:-1]]\n",
    "y = df[df.columns[-1]]"
   ]
  },
  {
   "cell_type": "code",
   "execution_count": 3,
   "metadata": {},
   "outputs": [
    {
     "data": {
      "text/html": [
       "<div>\n",
       "<style scoped>\n",
       "    .dataframe tbody tr th:only-of-type {\n",
       "        vertical-align: middle;\n",
       "    }\n",
       "\n",
       "    .dataframe tbody tr th {\n",
       "        vertical-align: top;\n",
       "    }\n",
       "\n",
       "    .dataframe thead th {\n",
       "        text-align: right;\n",
       "    }\n",
       "</style>\n",
       "<table border=\"1\" class=\"dataframe\">\n",
       "  <thead>\n",
       "    <tr style=\"text-align: right;\">\n",
       "      <th></th>\n",
       "      <th>Pclass</th>\n",
       "      <th>Sex</th>\n",
       "      <th>Embarked</th>\n",
       "      <th>Fare</th>\n",
       "    </tr>\n",
       "  </thead>\n",
       "  <tbody>\n",
       "    <tr>\n",
       "      <th>0</th>\n",
       "      <td>Upper</td>\n",
       "      <td>Male</td>\n",
       "      <td>Cherbourg</td>\n",
       "      <td>Expensive</td>\n",
       "    </tr>\n",
       "    <tr>\n",
       "      <th>1</th>\n",
       "      <td>Upper</td>\n",
       "      <td>Female</td>\n",
       "      <td>Cherbourg</td>\n",
       "      <td>Expensive</td>\n",
       "    </tr>\n",
       "    <tr>\n",
       "      <th>2</th>\n",
       "      <td>Middle</td>\n",
       "      <td>Female</td>\n",
       "      <td>Queenstown</td>\n",
       "      <td>Expensive</td>\n",
       "    </tr>\n",
       "    <tr>\n",
       "      <th>3</th>\n",
       "      <td>Upper</td>\n",
       "      <td>Female</td>\n",
       "      <td>Queenstown</td>\n",
       "      <td>Expensive</td>\n",
       "    </tr>\n",
       "    <tr>\n",
       "      <th>4</th>\n",
       "      <td>Lower</td>\n",
       "      <td>Female</td>\n",
       "      <td>Queenstown</td>\n",
       "      <td>Expensive</td>\n",
       "    </tr>\n",
       "    <tr>\n",
       "      <th>5</th>\n",
       "      <td>Middle</td>\n",
       "      <td>Male</td>\n",
       "      <td>Cherbourg</td>\n",
       "      <td>Expensive</td>\n",
       "    </tr>\n",
       "    <tr>\n",
       "      <th>6</th>\n",
       "      <td>Lower</td>\n",
       "      <td>Male</td>\n",
       "      <td>Queenstown</td>\n",
       "      <td>Cheap</td>\n",
       "    </tr>\n",
       "    <tr>\n",
       "      <th>7</th>\n",
       "      <td>Middle</td>\n",
       "      <td>Male</td>\n",
       "      <td>Queenstown</td>\n",
       "      <td>Expensive</td>\n",
       "    </tr>\n",
       "    <tr>\n",
       "      <th>8</th>\n",
       "      <td>Middle</td>\n",
       "      <td>Female</td>\n",
       "      <td>Cherbourg</td>\n",
       "      <td>Cheap</td>\n",
       "    </tr>\n",
       "    <tr>\n",
       "      <th>9</th>\n",
       "      <td>Upper</td>\n",
       "      <td>Male</td>\n",
       "      <td>Cherbourg</td>\n",
       "      <td>Expensive</td>\n",
       "    </tr>\n",
       "    <tr>\n",
       "      <th>10</th>\n",
       "      <td>Upper</td>\n",
       "      <td>Male</td>\n",
       "      <td>Cherbourg</td>\n",
       "      <td>Expensive</td>\n",
       "    </tr>\n",
       "    <tr>\n",
       "      <th>11</th>\n",
       "      <td>Middle</td>\n",
       "      <td>Female</td>\n",
       "      <td>Queenstown</td>\n",
       "      <td>Expensive</td>\n",
       "    </tr>\n",
       "    <tr>\n",
       "      <th>12</th>\n",
       "      <td>Upper</td>\n",
       "      <td>Male</td>\n",
       "      <td>Queenstown</td>\n",
       "      <td>Cheap</td>\n",
       "    </tr>\n",
       "    <tr>\n",
       "      <th>13</th>\n",
       "      <td>Middle</td>\n",
       "      <td>Male</td>\n",
       "      <td>Cherbourg</td>\n",
       "      <td>Cheap</td>\n",
       "    </tr>\n",
       "    <tr>\n",
       "      <th>14</th>\n",
       "      <td>Lower</td>\n",
       "      <td>Male</td>\n",
       "      <td>Queenstown</td>\n",
       "      <td>Cheap</td>\n",
       "    </tr>\n",
       "    <tr>\n",
       "      <th>15</th>\n",
       "      <td>Upper</td>\n",
       "      <td>Male</td>\n",
       "      <td>Cherbourg</td>\n",
       "      <td>Cheap</td>\n",
       "    </tr>\n",
       "  </tbody>\n",
       "</table>\n",
       "</div>"
      ],
      "text/plain": [
       "    Pclass     Sex    Embarked       Fare\n",
       "0    Upper    Male   Cherbourg  Expensive\n",
       "1    Upper  Female   Cherbourg  Expensive\n",
       "2   Middle  Female  Queenstown  Expensive\n",
       "3    Upper  Female  Queenstown  Expensive\n",
       "4    Lower  Female  Queenstown  Expensive\n",
       "5   Middle    Male   Cherbourg  Expensive\n",
       "6    Lower    Male  Queenstown      Cheap\n",
       "7   Middle    Male  Queenstown  Expensive\n",
       "8   Middle  Female   Cherbourg      Cheap\n",
       "9    Upper    Male   Cherbourg  Expensive\n",
       "10   Upper    Male   Cherbourg  Expensive\n",
       "11  Middle  Female  Queenstown  Expensive\n",
       "12   Upper    Male  Queenstown      Cheap\n",
       "13  Middle    Male   Cherbourg      Cheap\n",
       "14   Lower    Male  Queenstown      Cheap\n",
       "15   Upper    Male   Cherbourg      Cheap"
      ]
     },
     "execution_count": 3,
     "metadata": {},
     "output_type": "execute_result"
    }
   ],
   "source": [
    "X"
   ]
  },
  {
   "cell_type": "code",
   "execution_count": 4,
   "metadata": {},
   "outputs": [],
   "source": [
    "from sklearn.preprocessing import LabelEncoder"
   ]
  },
  {
   "cell_type": "code",
   "execution_count": 5,
   "metadata": {},
   "outputs": [],
   "source": [
    "for col in df.columns:\n",
    "    le = LabelEncoder()\n",
    "    le.fit(df[col])\n",
    "    df[col] = le.transform(df[col])"
   ]
  },
  {
   "cell_type": "code",
   "execution_count": 6,
   "metadata": {},
   "outputs": [
    {
     "data": {
      "text/html": [
       "<div>\n",
       "<style scoped>\n",
       "    .dataframe tbody tr th:only-of-type {\n",
       "        vertical-align: middle;\n",
       "    }\n",
       "\n",
       "    .dataframe tbody tr th {\n",
       "        vertical-align: top;\n",
       "    }\n",
       "\n",
       "    .dataframe thead th {\n",
       "        text-align: right;\n",
       "    }\n",
       "</style>\n",
       "<table border=\"1\" class=\"dataframe\">\n",
       "  <thead>\n",
       "    <tr style=\"text-align: right;\">\n",
       "      <th></th>\n",
       "      <th>Pclass</th>\n",
       "      <th>Sex</th>\n",
       "      <th>Embarked</th>\n",
       "      <th>Fare</th>\n",
       "      <th>Survival</th>\n",
       "    </tr>\n",
       "  </thead>\n",
       "  <tbody>\n",
       "    <tr>\n",
       "      <th>0</th>\n",
       "      <td>2</td>\n",
       "      <td>1</td>\n",
       "      <td>0</td>\n",
       "      <td>1</td>\n",
       "      <td>0</td>\n",
       "    </tr>\n",
       "    <tr>\n",
       "      <th>1</th>\n",
       "      <td>2</td>\n",
       "      <td>0</td>\n",
       "      <td>0</td>\n",
       "      <td>1</td>\n",
       "      <td>1</td>\n",
       "    </tr>\n",
       "    <tr>\n",
       "      <th>2</th>\n",
       "      <td>1</td>\n",
       "      <td>0</td>\n",
       "      <td>1</td>\n",
       "      <td>1</td>\n",
       "      <td>0</td>\n",
       "    </tr>\n",
       "    <tr>\n",
       "      <th>3</th>\n",
       "      <td>2</td>\n",
       "      <td>0</td>\n",
       "      <td>1</td>\n",
       "      <td>1</td>\n",
       "      <td>1</td>\n",
       "    </tr>\n",
       "    <tr>\n",
       "      <th>4</th>\n",
       "      <td>0</td>\n",
       "      <td>0</td>\n",
       "      <td>1</td>\n",
       "      <td>1</td>\n",
       "      <td>0</td>\n",
       "    </tr>\n",
       "    <tr>\n",
       "      <th>5</th>\n",
       "      <td>1</td>\n",
       "      <td>1</td>\n",
       "      <td>0</td>\n",
       "      <td>1</td>\n",
       "      <td>1</td>\n",
       "    </tr>\n",
       "    <tr>\n",
       "      <th>6</th>\n",
       "      <td>0</td>\n",
       "      <td>1</td>\n",
       "      <td>1</td>\n",
       "      <td>0</td>\n",
       "      <td>0</td>\n",
       "    </tr>\n",
       "    <tr>\n",
       "      <th>7</th>\n",
       "      <td>1</td>\n",
       "      <td>1</td>\n",
       "      <td>1</td>\n",
       "      <td>1</td>\n",
       "      <td>1</td>\n",
       "    </tr>\n",
       "    <tr>\n",
       "      <th>8</th>\n",
       "      <td>1</td>\n",
       "      <td>0</td>\n",
       "      <td>0</td>\n",
       "      <td>0</td>\n",
       "      <td>0</td>\n",
       "    </tr>\n",
       "    <tr>\n",
       "      <th>9</th>\n",
       "      <td>2</td>\n",
       "      <td>1</td>\n",
       "      <td>0</td>\n",
       "      <td>1</td>\n",
       "      <td>1</td>\n",
       "    </tr>\n",
       "    <tr>\n",
       "      <th>10</th>\n",
       "      <td>2</td>\n",
       "      <td>1</td>\n",
       "      <td>0</td>\n",
       "      <td>1</td>\n",
       "      <td>1</td>\n",
       "    </tr>\n",
       "    <tr>\n",
       "      <th>11</th>\n",
       "      <td>1</td>\n",
       "      <td>0</td>\n",
       "      <td>1</td>\n",
       "      <td>1</td>\n",
       "      <td>1</td>\n",
       "    </tr>\n",
       "    <tr>\n",
       "      <th>12</th>\n",
       "      <td>2</td>\n",
       "      <td>1</td>\n",
       "      <td>1</td>\n",
       "      <td>0</td>\n",
       "      <td>0</td>\n",
       "    </tr>\n",
       "    <tr>\n",
       "      <th>13</th>\n",
       "      <td>1</td>\n",
       "      <td>1</td>\n",
       "      <td>0</td>\n",
       "      <td>0</td>\n",
       "      <td>0</td>\n",
       "    </tr>\n",
       "    <tr>\n",
       "      <th>14</th>\n",
       "      <td>0</td>\n",
       "      <td>1</td>\n",
       "      <td>1</td>\n",
       "      <td>0</td>\n",
       "      <td>0</td>\n",
       "    </tr>\n",
       "    <tr>\n",
       "      <th>15</th>\n",
       "      <td>2</td>\n",
       "      <td>1</td>\n",
       "      <td>0</td>\n",
       "      <td>0</td>\n",
       "      <td>1</td>\n",
       "    </tr>\n",
       "  </tbody>\n",
       "</table>\n",
       "</div>"
      ],
      "text/plain": [
       "    Pclass  Sex  Embarked  Fare  Survival\n",
       "0        2    1         0     1         0\n",
       "1        2    0         0     1         1\n",
       "2        1    0         1     1         0\n",
       "3        2    0         1     1         1\n",
       "4        0    0         1     1         0\n",
       "5        1    1         0     1         1\n",
       "6        0    1         1     0         0\n",
       "7        1    1         1     1         1\n",
       "8        1    0         0     0         0\n",
       "9        2    1         0     1         1\n",
       "10       2    1         0     1         1\n",
       "11       1    0         1     1         1\n",
       "12       2    1         1     0         0\n",
       "13       1    1         0     0         0\n",
       "14       0    1         1     0         0\n",
       "15       2    1         0     0         1"
      ]
     },
     "execution_count": 6,
     "metadata": {},
     "output_type": "execute_result"
    }
   ],
   "source": [
    "df"
   ]
  },
  {
   "cell_type": "code",
   "execution_count": 7,
   "metadata": {},
   "outputs": [],
   "source": [
    "X = df[df.columns[:-1]]\n",
    "y = df[df.columns[-1]]"
   ]
  },
  {
   "cell_type": "code",
   "execution_count": 8,
   "metadata": {},
   "outputs": [
    {
     "data": {
      "text/plain": [
       "DecisionTreeClassifier(max_depth=3)"
      ]
     },
     "execution_count": 8,
     "metadata": {},
     "output_type": "execute_result"
    }
   ],
   "source": [
    "tree = DecisionTreeClassifier(max_depth=3)\n",
    "tree.fit(X, y)"
   ]
  },
  {
   "cell_type": "code",
   "execution_count": 9,
   "metadata": {},
   "outputs": [
    {
     "data": {
      "image/png": "[encoded data removed]",
      "text/plain": [
       "<Figure size 900x600 with 1 Axes>"
      ]
     },
     "metadata": {
      "needs_background": "light"
     },
     "output_type": "display_data"
    }
   ],
   "source": [
    "plt.figure(dpi=150)\n",
    "plot_tree(tree);"
   ]
  },
  {
   "cell_type": "code",
   "execution_count": 10,
   "metadata": {},
   "outputs": [
    {
     "data": {
      "text/plain": [
       "0.875"
      ]
     },
     "execution_count": 10,
     "metadata": {},
     "output_type": "execute_result"
    }
   ],
   "source": [
    "tree.score(X, y)"
   ]
  },
  {
   "cell_type": "code",
   "execution_count": 11,
   "metadata": {},
   "outputs": [
    {
     "data": {
      "text/plain": [
       "DecisionTreeClassifier(criterion='entropy', max_depth=2)"
      ]
     },
     "execution_count": 11,
     "metadata": {},
     "output_type": "execute_result"
    }
   ],
   "source": [
    "tree = DecisionTreeClassifier(criterion='entropy', max_depth=2)\n",
    "tree.fit(X, y)"
   ]
  },
  {
   "cell_type": "code",
   "execution_count": 12,
   "metadata": {},
   "outputs": [
    {
     "data": {
      "image/png": "[encoded data removed]",
      "text/plain": [
       "<Figure size 900x600 with 1 Axes>"
      ]
     },
     "metadata": {
      "needs_background": "light"
     },
     "output_type": "display_data"
    }
   ],
   "source": [
    "plt.figure(dpi=150)\n",
    "plot_tree(tree);"
   ]
  },
  {
   "cell_type": "code",
   "execution_count": 13,
   "metadata": {},
   "outputs": [
    {
     "data": {
      "text/plain": [
       "0.8125"
      ]
     },
     "execution_count": 13,
     "metadata": {},
     "output_type": "execute_result"
    }
   ],
   "source": [
    "tree.score(X, y)"
   ]
  },
  {
   "cell_type": "code",
   "execution_count": 2,
   "metadata": {},
   "outputs": [],
   "source": [
    "from collections import Counter\n",
    "\n",
    "class Node:\n",
    "    def __init__(self, data: pd.DataFrame, Y_attr: str, split_con='None'):\n",
    "        \"\"\"\n",
    "        Creates a new Node instance.\n",
    "\n",
    "        Args:\n",
    "        -----\n",
    "        data: The data to be contained in this node\n",
    "        Y_attr: The string representing the Y attribute\n",
    "        split_con: The attribute that this data was split on\n",
    "        \"\"\"\n",
    "        self.data = data\n",
    "        self.y_attr = Y_attr\n",
    "        self.split_condition = split_con\n",
    "        self.children = []\n",
    "    \n",
    "    def get_entropy(self, data: pd.DataFrame) -> float:\n",
    "        \"\"\"\n",
    "        Gets the entropy of the data.\n",
    "\n",
    "        Args:\n",
    "        -----\n",
    "        data: The data to find the entropy of\n",
    "        \"\"\"\n",
    "        cnt = Counter(data[self.y_attr])\n",
    "        probs = [x / len(data.index) for x in cnt.values()]\n",
    "        return sum([-p * math.log(p, 2) for p in probs])\n",
    "    \n",
    "    def get_split_condition(self) -> tuple:\n",
    "        \"\"\"\n",
    "        Returns the attribute, which on splitting by yields the highest\n",
    "        information gain.\n",
    "        \"\"\"\n",
    "        best_split = None\n",
    "        info_gain = 0\n",
    "        par_entropy = self.get_entropy(self.data)\n",
    "\n",
    "        for col in self.data.columns:\n",
    "            if col != self.y_attr:\n",
    "                groups = list(self.data.groupby(col))\n",
    "                for _, group in groups:\n",
    "                    entropy = self.get_entropy(group)\n",
    "                    cur_info_gain = par_entropy - len(group.index) / len(self.data.index) * entropy\n",
    "                    if cur_info_gain > info_gain:\n",
    "                        best_split = col\n",
    "                        info_gain = cur_info_gain\n",
    "\n",
    "        return best_split, info_gain\n",
    "    \n",
    "    def split(self, verbose=True) -> None:\n",
    "        \"\"\"\n",
    "        Splits the data in the current node by the best split condition.\n",
    "\n",
    "        Args:\n",
    "        -----\n",
    "        verbose: Prints debug information\n",
    "        \"\"\"\n",
    "        split, info_gain = self.get_split_condition()\n",
    "        \n",
    "        if split is None:\n",
    "            return\n",
    "\n",
    "        if verbose:\n",
    "            print('Splitting on', split, 'with information gain', info_gain)\n",
    "\n",
    "        # Split the data by the condition\n",
    "        groups = list(self.data.groupby(by=split))\n",
    "\n",
    "        if verbose:\n",
    "            print('Children:')\n",
    "\n",
    "        for _, group in groups:\n",
    "            # Remove the split condition column and create a node from the\n",
    "            # resulting dataset\n",
    "            group.drop(split, axis=1, inplace=True)\n",
    "\n",
    "            if verbose:\n",
    "                print()\n",
    "                print(split, '=', _)\n",
    "                print('---------\\n', group)\n",
    "\n",
    "            n = Node(group, self.y_attr, split)\n",
    "            self.children.append(n)\n",
    "    \n",
    "class DecisionTree(Node):\n",
    "    \"\"\"\n",
    "    A DecisionTree class that implements the ID3 algorithm using the Node\n",
    "    class.\t\n",
    "    \"\"\"\n",
    "    def __init__(self, data: pd.DataFrame, y: str):\n",
    "        \"\"\"\n",
    "        Creates a DecisionTree object.\n",
    "\n",
    "        Args:\n",
    "        -----\n",
    "        data: The data for the current node\n",
    "        y: The output attribute\n",
    "        \"\"\"\n",
    "        super().__init__(data, y)\n",
    "        \n",
    "    def fit(self) -> None:\n",
    "        \"\"\"\n",
    "        Creates the full decision tree from the current data.\n",
    "        \"\"\"\n",
    "        stack = [self]\n",
    "\n",
    "        while len(stack) > 0:\n",
    "            node = stack.pop()\n",
    "\n",
    "            # If entropy is 0, then stop splitting.\n",
    "            if node.get_entropy(node.data) > 0:\n",
    "                node.split(verbose=True)\n",
    "                for child in node.children:\n",
    "                    stack.append(child)\n",
    "    \n",
    "    def predict(self, sample: pd.DataFrame) -> str:\n",
    "        \"\"\"\n",
    "        Returns the class label for the given sample.\n",
    "\n",
    "        Args:\n",
    "        -----\n",
    "        sample: A DataFrame containing a single sample to predict on\n",
    "        \"\"\"\n",
    "        node = self\n",
    "\n",
    "        # Guess randomly if looping infinitely\n",
    "        it_counter = 0\n",
    "\n",
    "        while len(node.children) > 0:\n",
    "            # Get the current splitting condition.\n",
    "            split_con = node.children[0].split_condition\n",
    "\n",
    "            for child in node.children:\n",
    "                data = child.data\n",
    "\n",
    "                # Get the first sample in this split\n",
    "                first_sample = list(data.index)[0]\n",
    "\n",
    "                # Check if this child has the right value of the splitting\n",
    "                # condition. If not, try another child.\n",
    "                it_counter += 1\n",
    "                if sample[split_con][0] == node.data.loc[first_sample,:][split_con]:\n",
    "                    node = child\n",
    "                    it_counter = 0\n",
    "                    break\n",
    "\n",
    "                if it_counter == 2:\n",
    "                    global guess_count\n",
    "                    guess_count += 1\n",
    "                    it_counter = 0\n",
    "                    print('Random guess', guess_count)\n",
    "                    y_uniq = np.unique(node.data[self.y_attr])\n",
    "                    return random.choice(y_uniq)\n",
    "\n",
    "        return list(node.data[self.y_attr])[0]"
   ]
  },
  {
   "cell_type": "code",
   "execution_count": 54,
   "metadata": {},
   "outputs": [],
   "source": [
    "root = DecisionTree(df, y='Survival')"
   ]
  },
  {
   "cell_type": "code",
   "execution_count": 55,
   "metadata": {},
   "outputs": [
    {
     "name": "stdout",
     "output_type": "stream",
     "text": [
      "Splitting on Pclass with information gain 1.0\n",
      "Children:\n",
      "\n",
      "Pclass = Lower\n",
      "---------\n",
      "        Sex    Embarked       Fare Survival\n",
      "4   Female  Queenstown  Expensive        F\n",
      "6     Male  Queenstown      Cheap        F\n",
      "14    Male  Queenstown      Cheap        F\n",
      "\n",
      "Pclass = Middle\n",
      "---------\n",
      "        Sex    Embarked       Fare Survival\n",
      "2   Female  Queenstown  Expensive        F\n",
      "5     Male   Cherbourg  Expensive        T\n",
      "7     Male  Queenstown  Expensive        T\n",
      "8   Female   Cherbourg      Cheap        F\n",
      "11  Female  Queenstown  Expensive        T\n",
      "13    Male   Cherbourg      Cheap        F\n",
      "\n",
      "Pclass = Upper\n",
      "---------\n",
      "        Sex    Embarked       Fare Survival\n",
      "0     Male   Cherbourg  Expensive        F\n",
      "1   Female   Cherbourg  Expensive        T\n",
      "3   Female  Queenstown  Expensive        T\n",
      "9     Male   Cherbourg  Expensive        T\n",
      "10    Male   Cherbourg  Expensive        T\n",
      "12    Male  Queenstown      Cheap        F\n",
      "15    Male   Cherbourg      Cheap        T\n",
      "Splitting on Sex with information gain 0.863120568566631\n",
      "Children:\n",
      "\n",
      "Sex = Female\n",
      "---------\n",
      "      Embarked       Fare Survival\n",
      "1   Cherbourg  Expensive        T\n",
      "3  Queenstown  Expensive        T\n",
      "\n",
      "Sex = Male\n",
      "---------\n",
      "       Embarked       Fare Survival\n",
      "0    Cherbourg  Expensive        F\n",
      "9    Cherbourg  Expensive        T\n",
      "10   Cherbourg  Expensive        T\n",
      "12  Queenstown      Cheap        F\n",
      "15   Cherbourg      Cheap        T\n",
      "Splitting on Embarked with information gain 0.9709505944546686\n",
      "Children:\n",
      "\n",
      "Embarked = Cherbourg\n",
      "---------\n",
      "          Fare Survival\n",
      "0   Expensive        F\n",
      "9   Expensive        T\n",
      "10  Expensive        T\n",
      "15      Cheap        T\n",
      "\n",
      "Embarked = Queenstown\n",
      "---------\n",
      "      Fare Survival\n",
      "12  Cheap        F\n",
      "Splitting on Fare with information gain 0.8112781244591328\n",
      "Children:\n",
      "\n",
      "Fare = Cheap\n",
      "---------\n",
      "    Survival\n",
      "15        T\n",
      "\n",
      "Fare = Expensive\n",
      "---------\n",
      "    Survival\n",
      "0         F\n",
      "9         T\n",
      "10        T\n",
      "Splitting on Fare with information gain 1.0\n",
      "Children:\n",
      "\n",
      "Fare = Cheap\n",
      "---------\n",
      "        Sex   Embarked Survival\n",
      "8   Female  Cherbourg        F\n",
      "13    Male  Cherbourg        F\n",
      "\n",
      "Fare = Expensive\n",
      "---------\n",
      "        Sex    Embarked Survival\n",
      "2   Female  Queenstown        F\n",
      "5     Male   Cherbourg        T\n",
      "7     Male  Queenstown        T\n",
      "11  Female  Queenstown        T\n",
      "Splitting on Sex with information gain 0.8112781244591328\n",
      "Children:\n",
      "\n",
      "Sex = Female\n",
      "---------\n",
      "       Embarked Survival\n",
      "2   Queenstown        F\n",
      "11  Queenstown        T\n",
      "\n",
      "Sex = Male\n",
      "---------\n",
      "      Embarked Survival\n",
      "5   Cherbourg        T\n",
      "7  Queenstown        T\n"
     ]
    }
   ],
   "source": [
    "root.fit()"
   ]
  },
  {
   "cell_type": "code",
   "execution_count": 29,
   "metadata": {},
   "outputs": [],
   "source": [
    "import gc"
   ]
  },
  {
   "cell_type": "code",
   "execution_count": 30,
   "metadata": {},
   "outputs": [
    {
     "data": {
      "text/plain": [
       "8170"
      ]
     },
     "execution_count": 30,
     "metadata": {},
     "output_type": "execute_result"
    }
   ],
   "source": [
    "del DecisionTree, Node, root\n",
    "gc.collect()"
   ]
  },
  {
   "cell_type": "markdown",
   "metadata": {},
   "source": [
    "## Entire calculation"
   ]
  },
  {
   "cell_type": "code",
   "execution_count": 10,
   "metadata": {},
   "outputs": [],
   "source": [
    "import numpy as np"
   ]
  },
  {
   "cell_type": "code",
   "execution_count": 3,
   "metadata": {},
   "outputs": [],
   "source": [
    "df = pd.read_csv('hw2q1.csv')"
   ]
  },
  {
   "cell_type": "code",
   "execution_count": 4,
   "metadata": {},
   "outputs": [],
   "source": [
    "X = df[df.columns[:-1]]\n",
    "y = df[df.columns[-1]]"
   ]
  },
  {
   "cell_type": "code",
   "execution_count": 13,
   "metadata": {},
   "outputs": [],
   "source": [
    "def gini_impurity(probs):\n",
    "    return 1 - sum([p ** 2 for p in probs])"
   ]
  },
  {
   "cell_type": "code",
   "execution_count": 30,
   "metadata": {},
   "outputs": [],
   "source": [
    "def gini_index(df, column):\n",
    "    # Generate the table\n",
    "    groups = df.groupby(by=column)\n",
    "    total_len = len(df)\n",
    "    impurities = []\n",
    "    sizes = []\n",
    "    for _, group in groups:\n",
    "        probs = [sum(group['Survival'] == 'T') / len(group.index), \n",
    "                 sum(group['Survival'] == 'F') / len(group.index)]\n",
    "        impurities.append(gini_impurity(probs))\n",
    "        sizes.append(len(group.index) * 1. / total_len)\n",
    "    \n",
    "    print(impurities, sizes)\n",
    "    return np.dot(impurities, sizes)"
   ]
  },
  {
   "cell_type": "code",
   "execution_count": 31,
   "metadata": {},
   "outputs": [
    {
     "name": "stdout",
     "output_type": "stream",
     "text": [
      "[0.5, 0.5] [0.375, 0.625]\n"
     ]
    },
    {
     "data": {
      "text/plain": [
       "0.5"
      ]
     },
     "execution_count": 31,
     "metadata": {},
     "output_type": "execute_result"
    }
   ],
   "source": [
    "gini_index(df, 'Sex')"
   ]
  },
  {
   "cell_type": "code",
   "execution_count": 32,
   "metadata": {},
   "outputs": [
    {
     "name": "stdout",
     "output_type": "stream",
     "text": [
      "[0.0, 0.5, 0.40816326530612246] [0.1875, 0.375, 0.4375]\n",
      "Pclass - 0.3660714285714286\n",
      "[0.5, 0.5] [0.375, 0.625]\n",
      "Sex - 0.5\n",
      "[0.46875, 0.46875] [0.5, 0.5]\n",
      "Embarked - 0.46875\n",
      "[0.2777777777777777, 0.42000000000000004] [0.375, 0.625]\n",
      "Fare - 0.36666666666666664\n"
     ]
    }
   ],
   "source": [
    "for col in df.columns[:-1]:\n",
    "    print(col, '-', gini_index(df, col))"
   ]
  },
  {
   "cell_type": "code",
   "execution_count": 36,
   "metadata": {},
   "outputs": [
    {
     "name": "stdout",
     "output_type": "stream",
     "text": [
      "[0.40816326530612246] [1.0]\n",
      "Pclass - 0.40816326530612246\n",
      "[0.0, 0.48] [0.2857142857142857, 0.7142857142857143]\n",
      "Sex - 0.34285714285714286\n",
      "[0.31999999999999984, 0.5] [0.7142857142857143, 0.2857142857142857]\n",
      "Embarked - 0.37142857142857133\n",
      "[0.5, 0.31999999999999984] [0.2857142857142857, 0.7142857142857143]\n",
      "Fare - 0.37142857142857133\n"
     ]
    }
   ],
   "source": [
    "d = df[df['Fare'] == 'Upper']\n",
    "for col in d.columns[:-1]:\n",
    "    print(col, '-', gini_index(d, col))"
   ]
  },
  {
   "cell_type": "code",
   "execution_count": null,
   "metadata": {},
   "outputs": [],
   "source": []
  }
 ],
 "metadata": {
  "kernelspec": {
   "display_name": "Python 3",
   "language": "python",
   "name": "python3"
  },
  "language_info": {
   "codemirror_mode": {
    "name": "ipython",
    "version": 3
   },
   "file_extension": ".py",
   "mimetype": "text/x-python",
   "name": "python",
   "nbconvert_exporter": "python",
   "pygments_lexer": "ipython3",
   "version": "3.8.6"
  }
 },
 "nbformat": 4,
 "nbformat_minor": 4
}
